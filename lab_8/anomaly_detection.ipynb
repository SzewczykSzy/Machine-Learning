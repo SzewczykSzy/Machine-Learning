{
 "cells": [
  {
   "attachments": {},
   "cell_type": "markdown",
   "metadata": {},
   "source": [
    "# Anomaly detection\n",
    "## Szymon szewczyk"
   ]
  },
  {
   "cell_type": "code",
   "execution_count": 1,
   "metadata": {},
   "outputs": [
    {
     "name": "stdout",
     "output_type": "stream",
     "text": [
      "(2, 307)\n"
     ]
    }
   ],
   "source": [
    "import numpy as np  \n",
    "import pandas as pd  \n",
    "import matplotlib.pyplot as plt  \n",
    "from scipy.io import loadmat  \n",
    "\n",
    "data = loadmat('ex8data1.mat')\n",
    "X = data['X'].T\n",
    "print(X.shape)"
   ]
  },
  {
   "cell_type": "code",
   "execution_count": 2,
   "metadata": {},
   "outputs": [
    {
     "data": {
      "image/png": "[encoded data removed]",
      "text/plain": [
       "<Figure size 432x288 with 1 Axes>"
      ]
     },
     "metadata": {
      "needs_background": "light"
     },
     "output_type": "display_data"
    }
   ],
   "source": [
    "plt.scatter(X[0], X[1])\n",
    "plt.xlabel(\"x1\")\n",
    "plt.ylabel(\"x2\")\n",
    "plt.show()"
   ]
  },
  {
   "cell_type": "code",
   "execution_count": 3,
   "metadata": {},
   "outputs": [
    {
     "data": {
      "image/png": "[encoded data removed]",
      "text/plain": [
       "<Figure size 432x288 with 1 Axes>"
      ]
     },
     "metadata": {
      "needs_background": "light"
     },
     "output_type": "display_data"
    }
   ],
   "source": [
    "plt.hist(X[0], bins=20)\n",
    "plt.xlabel(\"x1\")\n",
    "plt.show()"
   ]
  },
  {
   "cell_type": "code",
   "execution_count": 4,
   "metadata": {},
   "outputs": [
    {
     "data": {
      "image/png": "[encoded data removed]",
      "text/plain": [
       "<Figure size 432x288 with 1 Axes>"
      ]
     },
     "metadata": {
      "needs_background": "light"
     },
     "output_type": "display_data"
    }
   ],
   "source": [
    "plt.hist(X[1], bins=20)\n",
    "plt.xlabel(\"x2\")\n",
    "plt.show()"
   ]
  },
  {
   "cell_type": "code",
   "execution_count": 5,
   "metadata": {},
   "outputs": [
    {
     "name": "stdout",
     "output_type": "stream",
     "text": [
      "[14.11222578 14.99771051] [1.35374717 1.3075723 ]\n"
     ]
    }
   ],
   "source": [
    "def estimate_gaussian(X):  \n",
    "    mu = np.array([np.mean(X[0]),np.mean(X[1])])\n",
    "    sigma = np.array([np.std(X[0]), np.std(X[1])])\n",
    "    return mu, sigma\n",
    "\n",
    "mean, sigma = estimate_gaussian(X)\n",
    "print(mean, sigma)"
   ]
  },
  {
   "attachments": {},
   "cell_type": "markdown",
   "metadata": {},
   "source": [
    "### Calculate probability"
   ]
  },
  {
   "cell_type": "code",
   "execution_count": 6,
   "metadata": {},
   "outputs": [
    {
     "name": "stdout",
     "output_type": "stream",
     "text": [
      "(2, 307)\n",
      "(1, 307)\n"
     ]
    }
   ],
   "source": [
    "Xval = data['Xval'].T\n",
    "yval = data['yval'].T\n",
    " \n",
    "print(Xval.shape)\n",
    "print(yval.shape)"
   ]
  },
  {
   "cell_type": "code",
   "execution_count": 7,
   "metadata": {},
   "outputs": [
    {
     "name": "stdout",
     "output_type": "stream",
     "text": [
      "[0.22545823 0.28556744 0.34199349 0.27030008 0.30841758]\n",
      "[0.34020932 0.19481118 0.26371991 0.20549115 0.24618534]\n"
     ]
    }
   ],
   "source": [
    "from scipy import stats\n",
    "\n",
    "prob_X1 = np.zeros((X.shape))\n",
    "prob_X2 = np.zeros((X.shape))\n",
    "\n",
    "prob_X1 = stats.norm.pdf(X[0,:], loc=mean[0], scale=np.sqrt(sigma[0]))\n",
    "prob_X2 = stats.norm.pdf(X[1,:], loc=mean[1], scale=np.sqrt(sigma[1]))\n",
    "\n",
    "# P = stats.norm.pdf(X, loc=np.array([mean[0], mean[1]]).T, scale=np.array([np.sqrt(sigma[0]), np.sqrt(sigma[1])]).T)\n",
    "print(prob_X1[:5])\n",
    "print(prob_X2[:5])"
   ]
  },
  {
   "cell_type": "code",
   "execution_count": 8,
   "metadata": {},
   "outputs": [
    {
     "name": "stdout",
     "output_type": "stream",
     "text": [
      "[[0.12119212 0.34809725]\n",
      " [0.31572846 0.33446095]\n",
      " [0.27798902 0.15163779]\n",
      " [0.30938503 0.23648579]\n",
      " [0.29359488 0.29864854]]\n"
     ]
    }
   ],
   "source": [
    "pval = np.zeros((Xval.shape[1], Xval.shape[1]))\n",
    "\n",
    "pval[:,0] = stats.norm.pdf(Xval[0,:], loc=mean[0], scale=np.sqrt(sigma[0]))\n",
    "pval[:,1] = stats.norm.pdf(Xval[1,:], loc=mean[1], scale=np.sqrt(sigma[1]))\n",
    "print(pval[:5,0:2])"
   ]
  },
  {
   "attachments": {},
   "cell_type": "markdown",
   "metadata": {},
   "source": [
    "### Selecting the threshold"
   ]
  },
  {
   "cell_type": "code",
   "execution_count": 9,
   "metadata": {},
   "outputs": [
    {
     "name": "stdout",
     "output_type": "stream",
     "text": [
      "6.978313623558666e-05 0.8750000000000001\n"
     ]
    }
   ],
   "source": [
    "from sklearn.metrics import f1_score\n",
    "\n",
    "def select_threshold(pval, yval): \n",
    "\n",
    "    step = np.linspace(pval.min(), pval.max(), 10000)\n",
    "    best_epsilon = 0\n",
    "    best_f1 = 0\n",
    "\n",
    "    for el in step:\n",
    "        t = pval <= el\n",
    "        y = np.logical_or(t[:,0], t[:,1])\n",
    "        f1 = f1_score(y, yval.T)\n",
    "        \n",
    "        if f1 > best_f1:\n",
    "            best_f1 = f1\n",
    "            best_epsilon = el\n",
    "\n",
    "    return best_epsilon, best_f1\n",
    "\n",
    "best_epsilon, best_f1 = select_threshold(pval, yval)\n",
    "print(best_epsilon, best_f1)"
   ]
  },
  {
   "attachments": {},
   "cell_type": "markdown",
   "metadata": {},
   "source": [
    "### Anomaly detection result"
   ]
  },
  {
   "cell_type": "code",
   "execution_count": 10,
   "metadata": {},
   "outputs": [
    {
     "name": "stdout",
     "output_type": "stream",
     "text": [
      "[[13.07931049  9.34787812]\n",
      " [21.72713402  4.12623222]\n",
      " [19.58257277 10.411619  ]\n",
      " [23.33986753 16.29887355]\n",
      " [ 4.75261282 24.35040725]]\n"
     ]
    }
   ],
   "source": [
    "t1 = prob_X1 < best_epsilon\n",
    "t2 = prob_X2 < best_epsilon\n",
    "\n",
    "y = np.logical_or(t1, t2) + 0\n",
    "\n",
    "anomalies = np.where(y == 1)\n",
    "anomalies_points = np.zeros((anomalies[0].shape[0], X.shape[0]))\n",
    "\n",
    "for i in range (0, anomalies[0].shape[0]):\n",
    "    anomalies_points[i, 0] = X[0, anomalies[0][i]]\n",
    "    anomalies_points[i, 1] = X[1, anomalies[0][i]]\n",
    "\n",
    "print(anomalies_points)"
   ]
  },
  {
   "cell_type": "code",
   "execution_count": 11,
   "metadata": {},
   "outputs": [
    {
     "data": {
      "text/plain": [
       "Text(0.5, 1.0, 'Found anomalies')"
      ]
     },
     "execution_count": 11,
     "metadata": {},
     "output_type": "execute_result"
    },
    {
     "data": {
      "image/png": "[encoded data removed]",
      "text/plain": [
       "<Figure size 432x288 with 1 Axes>"
      ]
     },
     "metadata": {
      "needs_background": "light"
     },
     "output_type": "display_data"
    }
   ],
   "source": [
    "plt.scatter(X[0,:], X[1,:])\n",
    "plt.scatter(anomalies_points[:,0], anomalies_points[:,1], s=200, alpha=0.5, edgecolors='r', linewidths=2)\n",
    "plt.xlabel('Latency [ms]')\n",
    "plt.ylabel('Throughput [mb/s]')\n",
    "plt.title('Found anomalies')"
   ]
  }
 ],
 "metadata": {
  "kernelspec": {
   "display_name": "Python 3",
   "language": "python",
   "name": "python3"
  },
  "language_info": {
   "codemirror_mode": {
    "name": "ipython",
    "version": 3
   },
   "file_extension": ".py",
   "mimetype": "text/x-python",
   "name": "python",
   "nbconvert_exporter": "python",
   "pygments_lexer": "ipython3",
   "version": "3.9.2"
  },
  "orig_nbformat": 4
 },
 "nbformat": 4,
 "nbformat_minor": 2
}
